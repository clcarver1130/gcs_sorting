{
 "cells": [
  {
   "cell_type": "markdown",
   "metadata": {},
   "source": [
    "# GCS Driveline Sorting"
   ]
  },
  {
   "cell_type": "markdown",
   "metadata": {},
   "source": [
    "## 1. Load Data:"
   ]
  },
  {
   "cell_type": "code",
   "execution_count": 26,
   "metadata": {
    "execution": {
     "iopub.execute_input": "2021-06-04T20:06:23.980417Z",
     "iopub.status.busy": "2021-06-04T20:06:23.980196Z",
     "iopub.status.idle": "2021-06-04T20:06:24.006582Z",
     "shell.execute_reply": "2021-06-04T20:06:24.005894Z",
     "shell.execute_reply.started": "2021-06-04T20:06:23.980393Z"
    }
   },
   "outputs": [
    {
     "data": {
      "text/html": [
       "<div>\n",
       "<style scoped>\n",
       "    .dataframe tbody tr th:only-of-type {\n",
       "        vertical-align: middle;\n",
       "    }\n",
       "\n",
       "    .dataframe tbody tr th {\n",
       "        vertical-align: top;\n",
       "    }\n",
       "\n",
       "    .dataframe thead th {\n",
       "        text-align: right;\n",
       "    }\n",
       "</style>\n",
       "<table border=\"1\" class=\"dataframe\">\n",
       "  <thead>\n",
       "    <tr style=\"text-align: right;\">\n",
       "      <th></th>\n",
       "      <th>student</th>\n",
       "      <th>grade</th>\n",
       "      <th>parent</th>\n",
       "    </tr>\n",
       "  </thead>\n",
       "  <tbody>\n",
       "    <tr>\n",
       "      <th>0</th>\n",
       "      <td>Abbott, Mercy</td>\n",
       "      <td>7</td>\n",
       "      <td>Abbott, Joshua and Michelle</td>\n",
       "    </tr>\n",
       "    <tr>\n",
       "      <th>1</th>\n",
       "      <td>Akers, Nash</td>\n",
       "      <td>5</td>\n",
       "      <td>Akers, Trent and Necole</td>\n",
       "    </tr>\n",
       "    <tr>\n",
       "      <th>2</th>\n",
       "      <td>Allen, Brody</td>\n",
       "      <td>6</td>\n",
       "      <td>Allen, Joshua and Carissa</td>\n",
       "    </tr>\n",
       "    <tr>\n",
       "      <th>3</th>\n",
       "      <td>Allen, Neveya</td>\n",
       "      <td>4</td>\n",
       "      <td>Allen, Joshua and Carissa</td>\n",
       "    </tr>\n",
       "    <tr>\n",
       "      <th>4</th>\n",
       "      <td>Allison, Bennett</td>\n",
       "      <td>K5</td>\n",
       "      <td>Allison, Brian and Lily</td>\n",
       "    </tr>\n",
       "  </tbody>\n",
       "</table>\n",
       "</div>"
      ],
      "text/plain": [
       "            student grade                       parent\n",
       "0     Abbott, Mercy     7  Abbott, Joshua and Michelle\n",
       "1       Akers, Nash     5      Akers, Trent and Necole\n",
       "2      Allen, Brody     6    Allen, Joshua and Carissa\n",
       "3     Allen, Neveya     4    Allen, Joshua and Carissa\n",
       "4  Allison, Bennett    K5      Allison, Brian and Lily"
      ]
     },
     "execution_count": 26,
     "metadata": {},
     "output_type": "execute_result"
    }
   ],
   "source": [
    "# Load in libraries\n",
    "import pandas as pd\n",
    "\n",
    "# CHANGE EACH YEAR\n",
    "FILENAME = '2021-2022 Cameron data.xls'\n",
    "\n",
    "# Load in Excel file and rename columns:\n",
    "xl = pd.ExcelFile(FILENAME)\n",
    "df = xl.parse(sheet_name=0, names=['student', 'grade', 'parent'])\n",
    "df = df.sort_values(['student', 'parent'])\n",
    "df.head()"
   ]
  },
  {
   "cell_type": "markdown",
   "metadata": {},
   "source": [
    "## 2. Clean and Format Data:\n",
    "\n",
    "We need to do a few things before we can assign release groups:\n",
    "1. Remove duplicate students. \n",
    "2. We need to convert 'PK4' and 'K5' to number that we can sort on. We'll make K5 equal to 0\n",
    "and we'll make PK4 -1. We'll convert them back at the end.\n",
    "3. Convert grade to an integer. Right now they are all stored as string objects."
   ]
  },
  {
   "cell_type": "code",
   "execution_count": 27,
   "metadata": {
    "execution": {
     "iopub.execute_input": "2021-06-04T20:06:24.379598Z",
     "iopub.status.busy": "2021-06-04T20:06:24.379368Z",
     "iopub.status.idle": "2021-06-04T20:06:24.395800Z",
     "shell.execute_reply": "2021-06-04T20:06:24.395183Z",
     "shell.execute_reply.started": "2021-06-04T20:06:24.379573Z"
    }
   },
   "outputs": [
    {
     "name": "stdout",
     "output_type": "stream",
     "text": [
      "Dropped 148 duplicate students.\n",
      "Dropped 1 student(s) with missing grades.\n"
     ]
    },
    {
     "data": {
      "text/html": [
       "<div>\n",
       "<style scoped>\n",
       "    .dataframe tbody tr th:only-of-type {\n",
       "        vertical-align: middle;\n",
       "    }\n",
       "\n",
       "    .dataframe tbody tr th {\n",
       "        vertical-align: top;\n",
       "    }\n",
       "\n",
       "    .dataframe thead th {\n",
       "        text-align: right;\n",
       "    }\n",
       "</style>\n",
       "<table border=\"1\" class=\"dataframe\">\n",
       "  <thead>\n",
       "    <tr style=\"text-align: right;\">\n",
       "      <th></th>\n",
       "      <th>student</th>\n",
       "      <th>grade</th>\n",
       "      <th>parent</th>\n",
       "      <th>grade_new</th>\n",
       "    </tr>\n",
       "  </thead>\n",
       "  <tbody>\n",
       "    <tr>\n",
       "      <th>0</th>\n",
       "      <td>Abbott, Mercy</td>\n",
       "      <td>7</td>\n",
       "      <td>Abbott, Joshua and Michelle</td>\n",
       "      <td>7</td>\n",
       "    </tr>\n",
       "    <tr>\n",
       "      <th>1</th>\n",
       "      <td>Akers, Nash</td>\n",
       "      <td>5</td>\n",
       "      <td>Akers, Trent and Necole</td>\n",
       "      <td>5</td>\n",
       "    </tr>\n",
       "    <tr>\n",
       "      <th>2</th>\n",
       "      <td>Allen, Brody</td>\n",
       "      <td>6</td>\n",
       "      <td>Allen, Joshua and Carissa</td>\n",
       "      <td>6</td>\n",
       "    </tr>\n",
       "    <tr>\n",
       "      <th>3</th>\n",
       "      <td>Allen, Neveya</td>\n",
       "      <td>4</td>\n",
       "      <td>Allen, Joshua and Carissa</td>\n",
       "      <td>4</td>\n",
       "    </tr>\n",
       "    <tr>\n",
       "      <th>4</th>\n",
       "      <td>Allison, Bennett</td>\n",
       "      <td>K5</td>\n",
       "      <td>Allison, Brian and Lily</td>\n",
       "      <td>0</td>\n",
       "    </tr>\n",
       "    <tr>\n",
       "      <th>5</th>\n",
       "      <td>Allison, Mila</td>\n",
       "      <td>2</td>\n",
       "      <td>Allison, Brian and Lily</td>\n",
       "      <td>2</td>\n",
       "    </tr>\n",
       "    <tr>\n",
       "      <th>6</th>\n",
       "      <td>Ames, Isabella</td>\n",
       "      <td>8</td>\n",
       "      <td>Ames, Tom and Richele</td>\n",
       "      <td>8</td>\n",
       "    </tr>\n",
       "    <tr>\n",
       "      <th>7</th>\n",
       "      <td>Anderson, Logan</td>\n",
       "      <td>8</td>\n",
       "      <td>Anderson, Jason and Kelli</td>\n",
       "      <td>8</td>\n",
       "    </tr>\n",
       "    <tr>\n",
       "      <th>8</th>\n",
       "      <td>Anderson, Savannah</td>\n",
       "      <td>8</td>\n",
       "      <td>Anderson, Scot and Holly</td>\n",
       "      <td>8</td>\n",
       "    </tr>\n",
       "    <tr>\n",
       "      <th>9</th>\n",
       "      <td>Arreola, Elias</td>\n",
       "      <td>K5</td>\n",
       "      <td>Arreola, Elias and Arlene</td>\n",
       "      <td>0</td>\n",
       "    </tr>\n",
       "  </tbody>\n",
       "</table>\n",
       "</div>"
      ],
      "text/plain": [
       "              student grade                       parent  grade_new\n",
       "0       Abbott, Mercy     7  Abbott, Joshua and Michelle          7\n",
       "1         Akers, Nash     5      Akers, Trent and Necole          5\n",
       "2        Allen, Brody     6    Allen, Joshua and Carissa          6\n",
       "3       Allen, Neveya     4    Allen, Joshua and Carissa          4\n",
       "4    Allison, Bennett    K5      Allison, Brian and Lily          0\n",
       "5       Allison, Mila     2      Allison, Brian and Lily          2\n",
       "6      Ames, Isabella     8        Ames, Tom and Richele          8\n",
       "7     Anderson, Logan     8    Anderson, Jason and Kelli          8\n",
       "8  Anderson, Savannah     8     Anderson, Scot and Holly          8\n",
       "9      Arreola, Elias    K5    Arreola, Elias and Arlene          0"
      ]
     },
     "execution_count": 27,
     "metadata": {},
     "output_type": "execute_result"
    }
   ],
   "source": [
    "# Drop duplicates:\n",
    "starting_len = len(df)\n",
    "df.drop_duplicates('student', inplace=True)\n",
    "ending_len = len(df)\n",
    "print(f'Dropped {starting_len - ending_len} duplicate students.')\n",
    "\n",
    "# Drop rows with empty grades\n",
    "df.dropna(subset=['grade'], inplace=True)\n",
    "no_grade_len = len(df)\n",
    "print(f'Dropped {ending_len - no_grade_len} student(s) with missing grades.')\n",
    "\n",
    "# Assign a new field called 'grade_new' that converts K5 and PK4 to 0 and -1 respectivly\n",
    "df['grade_new'] = df['grade'].apply(lambda x: -1 if x=='PK4' else (0 if x=='K5' else int(x)))\n",
    "df.head(10)"
   ]
  },
  {
   "cell_type": "code",
   "execution_count": 28,
   "metadata": {
    "execution": {
     "iopub.execute_input": "2021-06-04T20:06:24.768880Z",
     "iopub.status.busy": "2021-06-04T20:06:24.768664Z",
     "iopub.status.idle": "2021-06-04T20:06:24.780312Z",
     "shell.execute_reply": "2021-06-04T20:06:24.779740Z",
     "shell.execute_reply.started": "2021-06-04T20:06:24.768857Z"
    }
   },
   "outputs": [
    {
     "data": {
      "text/html": [
       "<div>\n",
       "<style scoped>\n",
       "    .dataframe tbody tr th:only-of-type {\n",
       "        vertical-align: middle;\n",
       "    }\n",
       "\n",
       "    .dataframe tbody tr th {\n",
       "        vertical-align: top;\n",
       "    }\n",
       "\n",
       "    .dataframe thead th {\n",
       "        text-align: right;\n",
       "    }\n",
       "</style>\n",
       "<table border=\"1\" class=\"dataframe\">\n",
       "  <thead>\n",
       "    <tr style=\"text-align: right;\">\n",
       "      <th></th>\n",
       "      <th>student</th>\n",
       "      <th>grade</th>\n",
       "      <th>parent</th>\n",
       "      <th>grade_new</th>\n",
       "      <th>release_grade</th>\n",
       "    </tr>\n",
       "  </thead>\n",
       "  <tbody>\n",
       "    <tr>\n",
       "      <th>0</th>\n",
       "      <td>Abbott, Mercy</td>\n",
       "      <td>7</td>\n",
       "      <td>Abbott, Joshua and Michelle</td>\n",
       "      <td>7</td>\n",
       "      <td>7</td>\n",
       "    </tr>\n",
       "    <tr>\n",
       "      <th>1</th>\n",
       "      <td>Akers, Nash</td>\n",
       "      <td>5</td>\n",
       "      <td>Akers, Trent and Necole</td>\n",
       "      <td>5</td>\n",
       "      <td>5</td>\n",
       "    </tr>\n",
       "    <tr>\n",
       "      <th>2</th>\n",
       "      <td>Allen, Brody</td>\n",
       "      <td>6</td>\n",
       "      <td>Allen, Joshua and Carissa</td>\n",
       "      <td>6</td>\n",
       "      <td>6</td>\n",
       "    </tr>\n",
       "    <tr>\n",
       "      <th>3</th>\n",
       "      <td>Allen, Neveya</td>\n",
       "      <td>4</td>\n",
       "      <td>Allen, Joshua and Carissa</td>\n",
       "      <td>4</td>\n",
       "      <td>6</td>\n",
       "    </tr>\n",
       "    <tr>\n",
       "      <th>4</th>\n",
       "      <td>Allison, Bennett</td>\n",
       "      <td>K5</td>\n",
       "      <td>Allison, Brian and Lily</td>\n",
       "      <td>0</td>\n",
       "      <td>2</td>\n",
       "    </tr>\n",
       "    <tr>\n",
       "      <th>5</th>\n",
       "      <td>Allison, Mila</td>\n",
       "      <td>2</td>\n",
       "      <td>Allison, Brian and Lily</td>\n",
       "      <td>2</td>\n",
       "      <td>2</td>\n",
       "    </tr>\n",
       "    <tr>\n",
       "      <th>6</th>\n",
       "      <td>Ames, Isabella</td>\n",
       "      <td>8</td>\n",
       "      <td>Ames, Tom and Richele</td>\n",
       "      <td>8</td>\n",
       "      <td>8</td>\n",
       "    </tr>\n",
       "    <tr>\n",
       "      <th>7</th>\n",
       "      <td>Anderson, Logan</td>\n",
       "      <td>8</td>\n",
       "      <td>Anderson, Jason and Kelli</td>\n",
       "      <td>8</td>\n",
       "      <td>8</td>\n",
       "    </tr>\n",
       "    <tr>\n",
       "      <th>8</th>\n",
       "      <td>Anderson, Savannah</td>\n",
       "      <td>8</td>\n",
       "      <td>Anderson, Scot and Holly</td>\n",
       "      <td>8</td>\n",
       "      <td>8</td>\n",
       "    </tr>\n",
       "    <tr>\n",
       "      <th>9</th>\n",
       "      <td>Arreola, Elias</td>\n",
       "      <td>K5</td>\n",
       "      <td>Arreola, Elias and Arlene</td>\n",
       "      <td>0</td>\n",
       "      <td>0</td>\n",
       "    </tr>\n",
       "  </tbody>\n",
       "</table>\n",
       "</div>"
      ],
      "text/plain": [
       "              student grade                       parent  grade_new  \\\n",
       "0       Abbott, Mercy     7  Abbott, Joshua and Michelle          7   \n",
       "1         Akers, Nash     5      Akers, Trent and Necole          5   \n",
       "2        Allen, Brody     6    Allen, Joshua and Carissa          6   \n",
       "3       Allen, Neveya     4    Allen, Joshua and Carissa          4   \n",
       "4    Allison, Bennett    K5      Allison, Brian and Lily          0   \n",
       "5       Allison, Mila     2      Allison, Brian and Lily          2   \n",
       "6      Ames, Isabella     8        Ames, Tom and Richele          8   \n",
       "7     Anderson, Logan     8    Anderson, Jason and Kelli          8   \n",
       "8  Anderson, Savannah     8     Anderson, Scot and Holly          8   \n",
       "9      Arreola, Elias    K5    Arreola, Elias and Arlene          0   \n",
       "\n",
       "   release_grade  \n",
       "0              7  \n",
       "1              5  \n",
       "2              6  \n",
       "3              6  \n",
       "4              2  \n",
       "5              2  \n",
       "6              8  \n",
       "7              8  \n",
       "8              8  \n",
       "9              0  "
      ]
     },
     "execution_count": 28,
     "metadata": {},
     "output_type": "execute_result"
    }
   ],
   "source": [
    "# Assign each student the 'max' of the families grade:\n",
    "df['release_grade'] = df.groupby('parent')['grade_new'].transform('max')\n",
    "df.head(10)"
   ]
  },
  {
   "cell_type": "code",
   "execution_count": 29,
   "metadata": {
    "execution": {
     "iopub.execute_input": "2021-06-04T20:06:25.643793Z",
     "iopub.status.busy": "2021-06-04T20:06:25.643560Z",
     "iopub.status.idle": "2021-06-04T20:06:25.649642Z",
     "shell.execute_reply": "2021-06-04T20:06:25.648811Z",
     "shell.execute_reply.started": "2021-06-04T20:06:25.643768Z"
    }
   },
   "outputs": [],
   "source": [
    "# Convert 0 and -1 back to K5 and PK4\n",
    "df['release_grade'] = df['release_grade'].apply(lambda x: 'PK4' if x==-1 else ('K5' if x==0 else x))\n",
    "# Drop the grade_new field we created. We won't need it anymore. \n",
    "df.drop(columns='grade_new', inplace=True)"
   ]
  },
  {
   "cell_type": "code",
   "execution_count": 31,
   "metadata": {
    "execution": {
     "iopub.execute_input": "2021-06-04T20:06:31.292725Z",
     "iopub.status.busy": "2021-06-04T20:06:31.292490Z",
     "iopub.status.idle": "2021-06-04T20:06:31.299761Z",
     "shell.execute_reply": "2021-06-04T20:06:31.299006Z",
     "shell.execute_reply.started": "2021-06-04T20:06:31.292700Z"
    }
   },
   "outputs": [],
   "source": [
    "# Create the 'has_sibling' field.\n",
    "family_count_dict = df.groupby('parent').count()['student'].to_dict() \n",
    "df['has_sibling'] = [1 if family_count_dict[x] > 1 else 0 for x in df['parent']]"
   ]
  },
  {
   "cell_type": "markdown",
   "metadata": {},
   "source": [
    "Now that we have the grade and the sibling flag let's create some example groupings. We'll make five groups:\n",
    "1. PK4\n",
    "2. K-2\n",
    "3. 3-5\n",
    "4. 6-8 No Siblings \n",
    "5. 6-8 with Siblings"
   ]
  },
  {
   "cell_type": "code",
   "execution_count": 33,
   "metadata": {
    "execution": {
     "iopub.execute_input": "2021-06-04T20:06:36.357592Z",
     "iopub.status.busy": "2021-06-04T20:06:36.357359Z",
     "iopub.status.idle": "2021-06-04T20:06:36.372835Z",
     "shell.execute_reply": "2021-06-04T20:06:36.372172Z",
     "shell.execute_reply.started": "2021-06-04T20:06:36.357566Z"
    }
   },
   "outputs": [],
   "source": [
    "def release_group(row):\n",
    "    if row['release_grade'] in ['K5', 1, 2]:\n",
    "        return 'K-2'\n",
    "    elif row['release_grade'] in [3, 4, 5]:\n",
    "        return '3-5'\n",
    "    elif (row['release_grade'] in [6, 7, 8]) & (row['has_sibling']==1):\n",
    "        return '6-8 Siblings'\n",
    "    elif (row['release_grade'] in [6, 7, 8]) & (row['has_sibling']!=1):\n",
    "        return '6-8 No Siblings' \n",
    "    else:\n",
    "        return 'PK4'\n",
    "\n",
    "df['release_group'] = df.apply(release_group, axis=1)"
   ]
  },
  {
   "cell_type": "code",
   "execution_count": 34,
   "metadata": {
    "execution": {
     "iopub.execute_input": "2021-06-04T20:06:37.035839Z",
     "iopub.status.busy": "2021-06-04T20:06:37.035617Z",
     "iopub.status.idle": "2021-06-04T20:06:37.118521Z",
     "shell.execute_reply": "2021-06-04T20:06:37.117901Z",
     "shell.execute_reply.started": "2021-06-04T20:06:37.035815Z"
    }
   },
   "outputs": [],
   "source": [
    "# Count by release group\n",
    "df_group = df.groupby('release_group').agg({'student':'count', 'parent':'nunique'}) \n",
    "\n",
    "# Count by release grade\n",
    "df_grade = df.groupby('release_grade').agg({'student':'count', 'parent':'nunique'})\n",
    "\n",
    "# Write to Excel\n",
    "SAVE_FILE_PATH = 'driveline2021_results.xlsx'\n",
    "\n",
    "writer = pd.ExcelWriter('{}.xlsx'.format(SAVE_FILE_PATH), engine='xlsxwriter') \n",
    "\n",
    "# Write each dataframe to a different worksheet.\n",
    "df.to_excel(writer, sheet_name='Raw Data')\n",
    "df_group.to_excel(writer, sheet_name='Possible Group Summary') \n",
    "df_grade.to_excel(writer, sheet_name='Release Grade Summary')\n",
    "\n",
    "# Close the Pandas Excel writer and output the Excel file.\n",
    "writer.save()"
   ]
  }
 ],
 "metadata": {
  "kernelspec": {
   "display_name": "ibchallenge",
   "language": "python",
   "name": "ibchallenge"
  },
  "language_info": {
   "codemirror_mode": {
    "name": "ipython",
    "version": 3
   },
   "file_extension": ".py",
   "mimetype": "text/x-python",
   "name": "python",
   "nbconvert_exporter": "python",
   "pygments_lexer": "ipython3",
   "version": "3.8.3"
  }
 },
 "nbformat": 4,
 "nbformat_minor": 4
}
