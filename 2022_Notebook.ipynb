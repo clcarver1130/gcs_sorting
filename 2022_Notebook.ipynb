{
 "cells": [
  {
   "cell_type": "markdown",
   "metadata": {},
   "source": [
    "# GCS Driveline Sorting"
   ]
  },
  {
   "cell_type": "markdown",
   "metadata": {},
   "source": [
    "## 1. Load Data:"
   ]
  },
  {
   "cell_type": "code",
   "execution_count": 2,
   "metadata": {
    "execution": {
     "iopub.execute_input": "2022-07-22T18:13:37.026099Z",
     "iopub.status.busy": "2022-07-22T18:13:37.025820Z",
     "iopub.status.idle": "2022-07-22T18:13:38.629765Z",
     "shell.execute_reply": "2022-07-22T18:13:38.629261Z",
     "shell.execute_reply.started": "2022-07-22T18:13:37.026073Z"
    }
   },
   "outputs": [
    {
     "data": {
      "text/html": [
       "<div>\n",
       "<style scoped>\n",
       "    .dataframe tbody tr th:only-of-type {\n",
       "        vertical-align: middle;\n",
       "    }\n",
       "\n",
       "    .dataframe tbody tr th {\n",
       "        vertical-align: top;\n",
       "    }\n",
       "\n",
       "    .dataframe thead th {\n",
       "        text-align: right;\n",
       "    }\n",
       "</style>\n",
       "<table border=\"1\" class=\"dataframe\">\n",
       "  <thead>\n",
       "    <tr style=\"text-align: right;\">\n",
       "      <th></th>\n",
       "      <th>student</th>\n",
       "      <th>grade</th>\n",
       "      <th>parent</th>\n",
       "    </tr>\n",
       "  </thead>\n",
       "  <tbody>\n",
       "    <tr>\n",
       "      <th>1</th>\n",
       "      <td>Abbott, Mercy</td>\n",
       "      <td>08</td>\n",
       "      <td>Abbott, Joshua and Michelle</td>\n",
       "    </tr>\n",
       "    <tr>\n",
       "      <th>2</th>\n",
       "      <td>Akers, Nash</td>\n",
       "      <td>06</td>\n",
       "      <td>Akers, Trent and Necole</td>\n",
       "    </tr>\n",
       "    <tr>\n",
       "      <th>3</th>\n",
       "      <td>Allen, Brody</td>\n",
       "      <td>07</td>\n",
       "      <td>Allen, Joshua and Carissa</td>\n",
       "    </tr>\n",
       "    <tr>\n",
       "      <th>4</th>\n",
       "      <td>Allen, Neveya</td>\n",
       "      <td>05</td>\n",
       "      <td>Allen, Joshua and Carissa</td>\n",
       "    </tr>\n",
       "    <tr>\n",
       "      <th>5</th>\n",
       "      <td>Allison, Bennett</td>\n",
       "      <td>01</td>\n",
       "      <td>Allison, Brian and Lily</td>\n",
       "    </tr>\n",
       "  </tbody>\n",
       "</table>\n",
       "</div>"
      ],
      "text/plain": [
       "            student grade                       parent\n",
       "1     Abbott, Mercy    08  Abbott, Joshua and Michelle\n",
       "2       Akers, Nash    06      Akers, Trent and Necole\n",
       "3      Allen, Brody    07    Allen, Joshua and Carissa\n",
       "4     Allen, Neveya    05    Allen, Joshua and Carissa\n",
       "5  Allison, Bennett    01      Allison, Brian and Lily"
      ]
     },
     "execution_count": 2,
     "metadata": {},
     "output_type": "execute_result"
    }
   ],
   "source": [
    "# Load in libraries\n",
    "import pandas as pd\n",
    "\n",
    "# CHANGE EACH YEAR\n",
    "FILENAME = 'DrivelineData_2022.xls'\n",
    "\n",
    "# Load in Excel file and rename columns:\n",
    "xl = pd.ExcelFile(FILENAME)\n",
    "df = xl.parse(sheet_name=0, names=['student', 'grade', 'parent'])\n",
    "df = df.sort_values(['student', 'parent'])\n",
    "df.head()"
   ]
  },
  {
   "cell_type": "markdown",
   "metadata": {},
   "source": [
    "## 2. Clean and Format Data:\n",
    "\n",
    "We need to do a few things before we can assign release groups:\n",
    "1. Remove duplicate students. \n",
    "2. We need to convert 'PK4' and 'K5' to number that we can sort on. We'll make K5 equal to 0\n",
    "and we'll make PK4 -1. We'll convert them back at the end.\n",
    "3. Convert grade to an integer. Right now they are all stored as string objects."
   ]
  },
  {
   "cell_type": "code",
   "execution_count": 3,
   "metadata": {
    "execution": {
     "iopub.execute_input": "2022-07-22T18:13:38.631155Z",
     "iopub.status.busy": "2022-07-22T18:13:38.630973Z",
     "iopub.status.idle": "2022-07-22T18:13:38.671527Z",
     "shell.execute_reply": "2022-07-22T18:13:38.671029Z",
     "shell.execute_reply.started": "2022-07-22T18:13:38.631136Z"
    }
   },
   "outputs": [
    {
     "name": "stdout",
     "output_type": "stream",
     "text": [
      "Dropped 149 duplicate students.\n",
      "Dropped 102 student(s) with missing grades.\n"
     ]
    },
    {
     "data": {
      "text/html": [
       "<div>\n",
       "<style scoped>\n",
       "    .dataframe tbody tr th:only-of-type {\n",
       "        vertical-align: middle;\n",
       "    }\n",
       "\n",
       "    .dataframe tbody tr th {\n",
       "        vertical-align: top;\n",
       "    }\n",
       "\n",
       "    .dataframe thead th {\n",
       "        text-align: right;\n",
       "    }\n",
       "</style>\n",
       "<table border=\"1\" class=\"dataframe\">\n",
       "  <thead>\n",
       "    <tr style=\"text-align: right;\">\n",
       "      <th></th>\n",
       "      <th>student</th>\n",
       "      <th>grade</th>\n",
       "      <th>parent</th>\n",
       "      <th>grade_new</th>\n",
       "    </tr>\n",
       "  </thead>\n",
       "  <tbody>\n",
       "    <tr>\n",
       "      <th>1</th>\n",
       "      <td>Abbott, Mercy</td>\n",
       "      <td>08</td>\n",
       "      <td>Abbott, Joshua and Michelle</td>\n",
       "      <td>8</td>\n",
       "    </tr>\n",
       "    <tr>\n",
       "      <th>2</th>\n",
       "      <td>Akers, Nash</td>\n",
       "      <td>06</td>\n",
       "      <td>Akers, Trent and Necole</td>\n",
       "      <td>6</td>\n",
       "    </tr>\n",
       "    <tr>\n",
       "      <th>3</th>\n",
       "      <td>Allen, Brody</td>\n",
       "      <td>07</td>\n",
       "      <td>Allen, Joshua and Carissa</td>\n",
       "      <td>7</td>\n",
       "    </tr>\n",
       "    <tr>\n",
       "      <th>4</th>\n",
       "      <td>Allen, Neveya</td>\n",
       "      <td>05</td>\n",
       "      <td>Allen, Joshua and Carissa</td>\n",
       "      <td>5</td>\n",
       "    </tr>\n",
       "    <tr>\n",
       "      <th>5</th>\n",
       "      <td>Allison, Bennett</td>\n",
       "      <td>01</td>\n",
       "      <td>Allison, Brian and Lily</td>\n",
       "      <td>1</td>\n",
       "    </tr>\n",
       "    <tr>\n",
       "      <th>6</th>\n",
       "      <td>Allison, Donovan</td>\n",
       "      <td>PK4</td>\n",
       "      <td>Allison, Brian and Lily</td>\n",
       "      <td>-1</td>\n",
       "    </tr>\n",
       "    <tr>\n",
       "      <th>7</th>\n",
       "      <td>Allison, Mila</td>\n",
       "      <td>03</td>\n",
       "      <td>Allison, Brian and Lily</td>\n",
       "      <td>3</td>\n",
       "    </tr>\n",
       "    <tr>\n",
       "      <th>12</th>\n",
       "      <td>Arredondo, Peyton</td>\n",
       "      <td>05</td>\n",
       "      <td>Arredondo, Krista and Benjamin</td>\n",
       "      <td>5</td>\n",
       "    </tr>\n",
       "    <tr>\n",
       "      <th>13</th>\n",
       "      <td>Arreola, Elias</td>\n",
       "      <td>01</td>\n",
       "      <td>Arreola, Elias and Arlene</td>\n",
       "      <td>1</td>\n",
       "    </tr>\n",
       "    <tr>\n",
       "      <th>14</th>\n",
       "      <td>Aston, Ryken</td>\n",
       "      <td>08</td>\n",
       "      <td>Aston, Ian and Kimberly</td>\n",
       "      <td>8</td>\n",
       "    </tr>\n",
       "  </tbody>\n",
       "</table>\n",
       "</div>"
      ],
      "text/plain": [
       "              student grade                          parent  grade_new\n",
       "1       Abbott, Mercy    08     Abbott, Joshua and Michelle          8\n",
       "2         Akers, Nash    06         Akers, Trent and Necole          6\n",
       "3        Allen, Brody    07       Allen, Joshua and Carissa          7\n",
       "4       Allen, Neveya    05       Allen, Joshua and Carissa          5\n",
       "5    Allison, Bennett    01         Allison, Brian and Lily          1\n",
       "6    Allison, Donovan   PK4         Allison, Brian and Lily         -1\n",
       "7       Allison, Mila    03         Allison, Brian and Lily          3\n",
       "12  Arredondo, Peyton    05  Arredondo, Krista and Benjamin          5\n",
       "13     Arreola, Elias    01       Arreola, Elias and Arlene          1\n",
       "14       Aston, Ryken    08         Aston, Ian and Kimberly          8"
      ]
     },
     "execution_count": 3,
     "metadata": {},
     "output_type": "execute_result"
    }
   ],
   "source": [
    "# Drop duplicates:\n",
    "starting_len = len(df)\n",
    "df.drop_duplicates('student', inplace=True)\n",
    "ending_len = len(df)\n",
    "print(f'Dropped {starting_len - ending_len} duplicate students.')\n",
    "\n",
    "# Drop rows with empty grades\n",
    "df.dropna(subset=['grade'], inplace=True)\n",
    "no_grade_len = len(df)\n",
    "print(f'Dropped {ending_len - no_grade_len} student(s) with missing grades.')\n",
    "\n",
    "# Assign a new field called 'grade_new' that converts K5 and PK4 to 0 and -1 respectivly\n",
    "df['grade_new'] = df['grade'].apply(lambda x: -1 if x=='PK4' else (0 if x=='K5' else int(x)))\n",
    "df.head(10)"
   ]
  },
  {
   "cell_type": "code",
   "execution_count": 4,
   "metadata": {
    "execution": {
     "iopub.execute_input": "2022-07-22T18:13:38.673203Z",
     "iopub.status.busy": "2022-07-22T18:13:38.673015Z",
     "iopub.status.idle": "2022-07-22T18:13:38.683573Z",
     "shell.execute_reply": "2022-07-22T18:13:38.683070Z",
     "shell.execute_reply.started": "2022-07-22T18:13:38.673180Z"
    }
   },
   "outputs": [
    {
     "data": {
      "text/html": [
       "<div>\n",
       "<style scoped>\n",
       "    .dataframe tbody tr th:only-of-type {\n",
       "        vertical-align: middle;\n",
       "    }\n",
       "\n",
       "    .dataframe tbody tr th {\n",
       "        vertical-align: top;\n",
       "    }\n",
       "\n",
       "    .dataframe thead th {\n",
       "        text-align: right;\n",
       "    }\n",
       "</style>\n",
       "<table border=\"1\" class=\"dataframe\">\n",
       "  <thead>\n",
       "    <tr style=\"text-align: right;\">\n",
       "      <th></th>\n",
       "      <th>student</th>\n",
       "      <th>grade</th>\n",
       "      <th>parent</th>\n",
       "      <th>grade_new</th>\n",
       "      <th>release_grade</th>\n",
       "    </tr>\n",
       "  </thead>\n",
       "  <tbody>\n",
       "    <tr>\n",
       "      <th>1</th>\n",
       "      <td>Abbott, Mercy</td>\n",
       "      <td>08</td>\n",
       "      <td>Abbott, Joshua and Michelle</td>\n",
       "      <td>8</td>\n",
       "      <td>8</td>\n",
       "    </tr>\n",
       "    <tr>\n",
       "      <th>2</th>\n",
       "      <td>Akers, Nash</td>\n",
       "      <td>06</td>\n",
       "      <td>Akers, Trent and Necole</td>\n",
       "      <td>6</td>\n",
       "      <td>6</td>\n",
       "    </tr>\n",
       "    <tr>\n",
       "      <th>3</th>\n",
       "      <td>Allen, Brody</td>\n",
       "      <td>07</td>\n",
       "      <td>Allen, Joshua and Carissa</td>\n",
       "      <td>7</td>\n",
       "      <td>7</td>\n",
       "    </tr>\n",
       "    <tr>\n",
       "      <th>4</th>\n",
       "      <td>Allen, Neveya</td>\n",
       "      <td>05</td>\n",
       "      <td>Allen, Joshua and Carissa</td>\n",
       "      <td>5</td>\n",
       "      <td>7</td>\n",
       "    </tr>\n",
       "    <tr>\n",
       "      <th>5</th>\n",
       "      <td>Allison, Bennett</td>\n",
       "      <td>01</td>\n",
       "      <td>Allison, Brian and Lily</td>\n",
       "      <td>1</td>\n",
       "      <td>3</td>\n",
       "    </tr>\n",
       "    <tr>\n",
       "      <th>6</th>\n",
       "      <td>Allison, Donovan</td>\n",
       "      <td>PK4</td>\n",
       "      <td>Allison, Brian and Lily</td>\n",
       "      <td>-1</td>\n",
       "      <td>3</td>\n",
       "    </tr>\n",
       "    <tr>\n",
       "      <th>7</th>\n",
       "      <td>Allison, Mila</td>\n",
       "      <td>03</td>\n",
       "      <td>Allison, Brian and Lily</td>\n",
       "      <td>3</td>\n",
       "      <td>3</td>\n",
       "    </tr>\n",
       "    <tr>\n",
       "      <th>12</th>\n",
       "      <td>Arredondo, Peyton</td>\n",
       "      <td>05</td>\n",
       "      <td>Arredondo, Krista and Benjamin</td>\n",
       "      <td>5</td>\n",
       "      <td>5</td>\n",
       "    </tr>\n",
       "    <tr>\n",
       "      <th>13</th>\n",
       "      <td>Arreola, Elias</td>\n",
       "      <td>01</td>\n",
       "      <td>Arreola, Elias and Arlene</td>\n",
       "      <td>1</td>\n",
       "      <td>1</td>\n",
       "    </tr>\n",
       "    <tr>\n",
       "      <th>14</th>\n",
       "      <td>Aston, Ryken</td>\n",
       "      <td>08</td>\n",
       "      <td>Aston, Ian and Kimberly</td>\n",
       "      <td>8</td>\n",
       "      <td>8</td>\n",
       "    </tr>\n",
       "  </tbody>\n",
       "</table>\n",
       "</div>"
      ],
      "text/plain": [
       "              student grade                          parent  grade_new  \\\n",
       "1       Abbott, Mercy    08     Abbott, Joshua and Michelle          8   \n",
       "2         Akers, Nash    06         Akers, Trent and Necole          6   \n",
       "3        Allen, Brody    07       Allen, Joshua and Carissa          7   \n",
       "4       Allen, Neveya    05       Allen, Joshua and Carissa          5   \n",
       "5    Allison, Bennett    01         Allison, Brian and Lily          1   \n",
       "6    Allison, Donovan   PK4         Allison, Brian and Lily         -1   \n",
       "7       Allison, Mila    03         Allison, Brian and Lily          3   \n",
       "12  Arredondo, Peyton    05  Arredondo, Krista and Benjamin          5   \n",
       "13     Arreola, Elias    01       Arreola, Elias and Arlene          1   \n",
       "14       Aston, Ryken    08         Aston, Ian and Kimberly          8   \n",
       "\n",
       "    release_grade  \n",
       "1               8  \n",
       "2               6  \n",
       "3               7  \n",
       "4               7  \n",
       "5               3  \n",
       "6               3  \n",
       "7               3  \n",
       "12              5  \n",
       "13              1  \n",
       "14              8  "
      ]
     },
     "execution_count": 4,
     "metadata": {},
     "output_type": "execute_result"
    }
   ],
   "source": [
    "# Assign each student the 'max' of the families grade:\n",
    "df['release_grade'] = df.groupby('parent')['grade_new'].transform('max')\n",
    "df.head(10)"
   ]
  },
  {
   "cell_type": "code",
   "execution_count": 5,
   "metadata": {
    "execution": {
     "iopub.execute_input": "2022-07-22T18:13:45.856203Z",
     "iopub.status.busy": "2022-07-22T18:13:45.855952Z",
     "iopub.status.idle": "2022-07-22T18:13:45.862908Z",
     "shell.execute_reply": "2022-07-22T18:13:45.861871Z",
     "shell.execute_reply.started": "2022-07-22T18:13:45.856177Z"
    }
   },
   "outputs": [],
   "source": [
    "# Convert 0 and -1 back to K5 and PK4\n",
    "df['release_grade'] = df['release_grade'].apply(lambda x: 'PK4' if x==-1 else ('K5' if x==0 else x))\n",
    "# Drop the grade_new field we created. We won't need it anymore. \n",
    "df.drop(columns='grade_new', inplace=True)"
   ]
  },
  {
   "cell_type": "code",
   "execution_count": 6,
   "metadata": {
    "execution": {
     "iopub.execute_input": "2022-07-22T18:13:47.590148Z",
     "iopub.status.busy": "2022-07-22T18:13:47.589916Z",
     "iopub.status.idle": "2022-07-22T18:13:47.596947Z",
     "shell.execute_reply": "2022-07-22T18:13:47.596036Z",
     "shell.execute_reply.started": "2022-07-22T18:13:47.590124Z"
    }
   },
   "outputs": [],
   "source": [
    "# Create the 'has_sibling' field.\n",
    "family_count_dict = df.groupby('parent').count()['student'].to_dict() \n",
    "df['has_sibling'] = [1 if family_count_dict[x] > 1 else 0 for x in df['parent']]"
   ]
  },
  {
   "cell_type": "markdown",
   "metadata": {},
   "source": [
    "Now that we have the grade and the sibling flag let's create some example groupings. We'll make five groups:\n",
    "1. PK4\n",
    "2. K-2\n",
    "3. 3-5\n",
    "4. 6-8 No Siblings \n",
    "5. 6-8 with Siblings"
   ]
  },
  {
   "cell_type": "code",
   "execution_count": 7,
   "metadata": {
    "execution": {
     "iopub.execute_input": "2022-07-22T18:13:53.361648Z",
     "iopub.status.busy": "2022-07-22T18:13:53.361398Z",
     "iopub.status.idle": "2022-07-22T18:13:53.380043Z",
     "shell.execute_reply": "2022-07-22T18:13:53.379391Z",
     "shell.execute_reply.started": "2022-07-22T18:13:53.361622Z"
    }
   },
   "outputs": [],
   "source": [
    "def release_group(row):\n",
    "    if row['release_grade'] in ['K5', 1, 2]:\n",
    "        return 'K-2'\n",
    "    elif row['release_grade'] in [3, 4, 5]:\n",
    "        return '3-5'\n",
    "    elif (row['release_grade'] in [6, 7, 8]) & (row['has_sibling']==1):\n",
    "        return '6-8 Siblings'\n",
    "    elif (row['release_grade'] in [6, 7, 8]) & (row['has_sibling']!=1):\n",
    "        return '6-8 No Siblings'  \n",
    "    else:\n",
    "        return 'PK4'\n",
    "\n",
    "df['release_group'] = df.apply(release_group, axis=1)"
   ]
  },
  {
   "cell_type": "code",
   "execution_count": 8,
   "metadata": {
    "execution": {
     "iopub.execute_input": "2022-07-22T18:14:01.372616Z",
     "iopub.status.busy": "2022-07-22T18:14:01.372355Z",
     "iopub.status.idle": "2022-07-22T18:14:01.742668Z",
     "shell.execute_reply": "2022-07-22T18:14:01.741903Z",
     "shell.execute_reply.started": "2022-07-22T18:14:01.372589Z"
    }
   },
   "outputs": [],
   "source": [
    "# Count by release group\n",
    "df_group = df.groupby('release_group').agg({'student':'count', 'parent':'nunique'}) \n",
    "\n",
    "# Count by release grade\n",
    "df_grade = df.groupby('release_grade').agg({'student':'count', 'parent':'nunique'})\n",
    "\n",
    "# Write to Excel\n",
    "SAVE_FILE_PATH = 'driveline2022_results_v3.xlsx'\n",
    "\n",
    "writer = pd.ExcelWriter('{}.xlsx'.format(SAVE_FILE_PATH), engine='xlsxwriter') \n",
    "\n",
    "# Write each dataframe to a different worksheet.\n",
    "df.to_excel(writer, sheet_name='Raw Data')\n",
    "df_group.to_excel(writer, sheet_name='Possible Group Summary') \n",
    "df_grade.to_excel(writer, sheet_name='Release Grade Summary')\n",
    "\n",
    "# Close the Pandas Excel writer and output the Excel file.\n",
    "writer.save()"
   ]
  },
  {
   "cell_type": "code",
   "execution_count": null,
   "metadata": {},
   "outputs": [],
   "source": []
  }
 ],
 "metadata": {
  "kernelspec": {
   "display_name": "ibchallenge",
   "language": "python",
   "name": "ibchallenge"
  },
  "language_info": {
   "codemirror_mode": {
    "name": "ipython",
    "version": 3
   },
   "file_extension": ".py",
   "mimetype": "text/x-python",
   "name": "python",
   "nbconvert_exporter": "python",
   "pygments_lexer": "ipython3",
   "version": "3.8.3"
  }
 },
 "nbformat": 4,
 "nbformat_minor": 4
}
